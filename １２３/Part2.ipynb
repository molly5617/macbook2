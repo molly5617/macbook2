{
 "cells": [
  {
   "cell_type": "code",
   "execution_count": 148,
   "metadata": {},
   "outputs": [],
   "source": [
    "from PIL import Image"
   ]
  },
  {
   "cell_type": "code",
   "execution_count": 149,
   "metadata": {},
   "outputs": [],
   "source": [
    "lena=Image.open('./lena.bmp')\n",
    "width,height=lena.size\n",
    "lena_arr=list(lena.getdata())\n",
    "lena_arr=[lena_arr[i:i + width] for i in range(0, len(lena_arr), width)]"
   ]
  },
  {
   "cell_type": "markdown",
   "metadata": {},
   "source": [
    "(d) rotate lena.bmp 45 degrees clockwise"
   ]
  },
  {
   "cell_type": "code",
   "execution_count": 150,
   "metadata": {},
   "outputs": [],
   "source": [
    "HW1_d = lena.rotate(45)  # expand=True 用于自动调整图像大小以适应旋转后的内容\n",
    "HW1_d.save('hw1_d.bmp')"
   ]
  },
  {
   "cell_type": "markdown",
   "metadata": {},
   "source": [
    "縮小１／２"
   ]
  },
  {
   "cell_type": "code",
   "execution_count": 151,
   "metadata": {},
   "outputs": [],
   "source": [
    "def shrink_half(image, width, height):\n",
    "    new_image = []\n",
    "    for i in range(0, height, 2):\n",
    "        row = []\n",
    "        for j in range(0, width, 2):\n",
    "            # 计算 2x2 像素块的平均值\n",
    "            avg_pixel = (image[i][j] + image[i+1][j] + image[i][j+1] + image[i+1][j+1]) // 4\n",
    "            row.append(avg_pixel)\n",
    "        new_image.append(row)\n",
    "    \n",
    "    return new_image\n",
    "\n",
    "HW1_e = shrink_half(lena_arr, width, height)"
   ]
  },
  {
   "cell_type": "markdown",
   "metadata": {},
   "source": [
    "binarize lena.bmp at 128 to get a binary image"
   ]
  },
  {
   "cell_type": "code",
   "execution_count": 152,
   "metadata": {},
   "outputs": [],
   "source": [
    "def binarize(image, width, height, threshold=128):\n",
    "    return [[255 if pixel >= threshold else 0 for pixel in row] for row in image]\n",
    "\n",
    "HW1_f = binarize(lena_arr, width, height)"
   ]
  },
  {
   "cell_type": "code",
   "execution_count": 153,
   "metadata": {},
   "outputs": [],
   "source": [
    "def save_transformed_image(data, filename, new_width=None, new_height=None):\n",
    "    if new_width is None or new_height is None:\n",
    "        new_width, new_height = width, height\n",
    "    flat_data = [pixel for row in data for pixel in row]\n",
    "    img = Image.new('L', (new_width, new_height))\n",
    "    img.putdata(flat_data)\n",
    "    img.save(filename)"
   ]
  },
  {
   "cell_type": "code",
   "execution_count": 154,
   "metadata": {},
   "outputs": [],
   "source": [
    "save_transformed_image(HW1_e, \"HW1_e.bmp\", width//2, height//2)\n",
    "save_transformed_image(HW1_f, \"HW1_f.bmp\")"
   ]
  }
 ],
 "metadata": {
  "kernelspec": {
   "display_name": "base",
   "language": "python",
   "name": "python3"
  },
  "language_info": {
   "codemirror_mode": {
    "name": "ipython",
    "version": 3
   },
   "file_extension": ".py",
   "mimetype": "text/x-python",
   "name": "python",
   "nbconvert_exporter": "python",
   "pygments_lexer": "ipython3",
   "version": "3.12.4"
  }
 },
 "nbformat": 4,
 "nbformat_minor": 2
}
