{
 "cells": [
  {
   "cell_type": "code",
   "execution_count": 126,
   "metadata": {},
   "outputs": [],
   "source": [
    "from PIL import Image\n",
    "lena=Image.open('./lena.bmp')\n",
    "width, height = lena.size\n",
    "lena_arr=list(lena.getdata())\n",
    "lena_arr = [lena_arr[i:i + width] for i in range(0, len(lena_arr), width)]"
   ]
  },
  {
   "cell_type": "code",
   "execution_count": 127,
   "metadata": {},
   "outputs": [],
   "source": [
    "def save_image(data,filename):\n",
    "    flat_data=[pixel for row in data for pixel in row]\n",
    "    img=Image.new('L',(width, height))\n",
    "    img.putdata(flat_data)\n",
    "    img.save(filename)"
   ]
  },
  {
   "cell_type": "markdown",
   "metadata": {},
   "source": [
    "(a) upside-down lena.bmp"
   ]
  },
  {
   "cell_type": "code",
   "execution_count": 128,
   "metadata": {},
   "outputs": [],
   "source": [
    "HW1_a=lena_arr[::-1]\n",
    "save_image(HW1_a, \"HW1_a.bmp\")"
   ]
  },
  {
   "cell_type": "markdown",
   "metadata": {},
   "source": [
    "(b) right-side-left lena.bmp"
   ]
  },
  {
   "cell_type": "code",
   "execution_count": 129,
   "metadata": {},
   "outputs": [],
   "source": [
    "HW1_b = [row[::-1] for row in lena_arr]\n",
    "save_image(HW1_b, \"HW1_b.bmp\")"
   ]
  },
  {
   "cell_type": "markdown",
   "metadata": {},
   "source": [
    "(c) diagonally flip lena.bmp "
   ]
  },
  {
   "cell_type": "code",
   "execution_count": 130,
   "metadata": {},
   "outputs": [],
   "source": [
    "HW1_c=[[lena_arr[j][i]for j in range (height) ]for i in range(width)]\n",
    "save_image(HW1_c, \"HW1_c.bmp\")"
   ]
  },
  {
   "cell_type": "markdown",
   "metadata": {},
   "source": [
    "(d) rotate lena.bmp 45 degrees clockwise "
   ]
  },
  {
   "cell_type": "code",
   "execution_count": 131,
   "metadata": {},
   "outputs": [],
   "source": [
    "HW1_d = lena.rotate(45)  \n",
    "HW1_d.save('HW1_d.bmp')"
   ]
  },
  {
   "cell_type": "markdown",
   "metadata": {},
   "source": [
    "(e) shrink lena.bmp in half"
   ]
  },
  {
   "cell_type": "code",
   "execution_count": 132,
   "metadata": {},
   "outputs": [],
   "source": [
    "HW1_e = lena.resize((width // 2, height // 2)) \n",
    "HW1_e.save('HW1_e.bmp')"
   ]
  },
  {
   "cell_type": "markdown",
   "metadata": {},
   "source": [
    "(f) binarize lena.bmp at 128 to get a binary image"
   ]
  },
  {
   "cell_type": "code",
   "execution_count": 133,
   "metadata": {},
   "outputs": [],
   "source": [
    "threshold = 128\n",
    "binarize = lena.point(lambda p: 255 if p >= threshold else 0)\n",
    "binarize.save('HW1_f.bmp')"
   ]
  }
 ],
 "metadata": {
  "kernelspec": {
   "display_name": "Python 3",
   "language": "python",
   "name": "python3"
  },
  "language_info": {
   "codemirror_mode": {
    "name": "ipython",
    "version": 3
   },
   "file_extension": ".py",
   "mimetype": "text/x-python",
   "name": "python",
   "nbconvert_exporter": "python",
   "pygments_lexer": "ipython3",
   "version": "3.12.4"
  }
 },
 "nbformat": 4,
 "nbformat_minor": 2
}
